{
 "cells": [
  {
   "cell_type": "code",
   "execution_count": 1,
   "id": "690cb4d2-14ca-4f4b-8ab7-d4f720ee31fe",
   "metadata": {},
   "outputs": [],
   "source": [
    "import os\n",
    "import json\n",
    "import pandas as pd\n",
    "import numpy as np\n",
    "import random\n",
    "from urllib.request import urlopen\n",
    "from PIL import Image\n",
    "from pycocotools.coco import COCO"
   ]
  },
  {
   "cell_type": "code",
   "execution_count": 2,
   "id": "619866a5-851c-473b-8563-38eb0a302e92",
   "metadata": {},
   "outputs": [
    {
     "name": "stdout",
     "output_type": "stream",
     "text": [
      "loading annotations into memory...\n",
      "Done (t=0.24s)\n",
      "creating index...\n",
      "index created!\n"
     ]
    }
   ],
   "source": [
    "#coco instance\n",
    "coco = COCO('./annotations/captions_val2014.json')"
   ]
  },
  {
   "cell_type": "code",
   "execution_count": 3,
   "id": "3b213e20-7d9c-437f-aaec-69bd9800785c",
   "metadata": {},
   "outputs": [],
   "source": [
    "id_list = coco.getImgIds()\n",
    "unique_integers = list(range(len(id_list)))"
   ]
  },
  {
   "cell_type": "code",
   "execution_count": 4,
   "id": "c414510f-2485-4081-a42c-572f0dd4b755",
   "metadata": {},
   "outputs": [
    {
     "name": "stdout",
     "output_type": "stream",
     "text": [
      "49\n",
      "saving 67327.jpg\n"
     ]
    }
   ],
   "source": [
    "#list to check if images already exist\n",
    "existing_images_files = [f for f in os.listdir(f'./images') if not f.startswith('.')]\n",
    "\n",
    "print(len(existing_images_files))\n",
    "\n",
    "while len(existing_images_files) < 50:\n",
    "    random.shuffle(unique_integers) \n",
    "    idx = unique_integers[0]\n",
    "    img = coco.loadImgs(int(id_list[idx]))\n",
    "    path = img[0]['url']\n",
    "    file_name =  f'{id_list[idx]}.jpg'\n",
    "    try:\n",
    "        print(\"saving\", file_name)\n",
    "        img = Image.open(urlopen(path))\n",
    "        img.save(f'./images/{file_name}')\n",
    "    except Exception as e:\n",
    "        print(f\"Error: {e}\")\n",
    "        continue \n",
    "            \n",
    "    existing_images_files = [f for f in os.listdir(f'./images') if not f.startswith('.')]\n",
    "    "
   ]
  },
  {
   "cell_type": "code",
   "execution_count": null,
   "id": "a45230f9-a2dc-450a-9402-a4801e86d5b5",
   "metadata": {},
   "outputs": [],
   "source": []
  }
 ],
 "metadata": {
  "kernelspec": {
   "display_name": "Python 3 (ipykernel)",
   "language": "python",
   "name": "python3"
  },
  "language_info": {
   "codemirror_mode": {
    "name": "ipython",
    "version": 3
   },
   "file_extension": ".py",
   "mimetype": "text/x-python",
   "name": "python",
   "nbconvert_exporter": "python",
   "pygments_lexer": "ipython3",
   "version": "3.9.18"
  }
 },
 "nbformat": 4,
 "nbformat_minor": 5
}
