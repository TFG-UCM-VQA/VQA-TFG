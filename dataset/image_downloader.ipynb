{
 "cells": [
  {
   "cell_type": "markdown",
   "id": "97c1488b-72d0-4476-b819-30d530aad45b",
   "metadata": {},
   "source": [
    "Create script to download images according to id and store them in ./images"
   ]
  },
  {
   "cell_type": "code",
   "execution_count": 1,
   "id": "59ca285e-596a-47b0-8dc3-c525a735aa46",
   "metadata": {},
   "outputs": [],
   "source": [
    "import os\n",
    "import json\n",
    "import pandas as pd\n",
    "import numpy as np\n",
    "import random\n",
    "from urllib.request import urlopen\n",
    "from PIL import Image\n",
    "from pycocotools.coco import COCO"
   ]
  },
  {
   "cell_type": "code",
   "execution_count": 2,
   "id": "250333fd-4b7b-449d-831e-2110058d3c44",
   "metadata": {},
   "outputs": [
    {
     "name": "stdout",
     "output_type": "stream",
     "text": [
      "loading annotations into memory...\n",
      "Done (t=12.16s)\n",
      "creating index...\n",
      "index created!\n"
     ]
    }
   ],
   "source": [
    "#coco instance\n",
    "coco = COCO('annotations/instances_train2017.json')"
   ]
  },
  {
   "cell_type": "markdown",
   "id": "0dc83656-5cfe-49f8-94e0-2b22564adcfb",
   "metadata": {},
   "source": [
    "## BY QUESTION TYPE"
   ]
  },
  {
   "cell_type": "code",
   "execution_count": 3,
   "id": "4e417895-f791-4d80-b1fa-35488d59f420",
   "metadata": {},
   "outputs": [],
   "source": [
    "#specify dataset to download images\n",
    "dataset_name = 'dataset_1'"
   ]
  },
  {
   "cell_type": "code",
   "execution_count": 5,
   "id": "81c75887-41a3-4c06-9415-e7c69b028d88",
   "metadata": {
    "scrolled": true,
    "tags": []
   },
   "outputs": [
    {
     "name": "stdout",
     "output_type": "stream",
     "text": [
      "There are 65 question types\n",
      "what is this 0\n",
      "what 1\n",
      "what color is the 2\n",
      "is this 3\n",
      "what is the person 4\n",
      "what is in the 5\n",
      "is the 6\n",
      "is there 7\n",
      "what is the 8\n",
      "is 9\n",
      "is the man 10\n",
      "none of the above 11\n",
      "does the 12\n",
      "are the 13\n",
      "was 14\n",
      "how many 15\n",
      "what color is 16\n",
      "what is the man 17\n",
      "what is on the 18\n",
      "what is 19\n",
      "how many people are in 20\n",
      "is there a 21\n",
      "is it 22\n",
      "is the person 23\n",
      "what does the 24\n",
      "is this a 25\n",
      "how 26\n",
      "are there 27\n",
      "has 28\n",
      "could 29\n",
      "where is the 30\n",
      "are 31\n",
      "are they 32\n",
      "are these 33\n",
      "why is the 34\n",
      "how many people are 35\n",
      "what color are the 36\n",
      "what type of 37\n",
      "where are the 38\n",
      "what kind of 39\n",
      "which 40\n",
      "do 41\n",
      "what is the name 42\n",
      "is this an 43\n",
      "what is the color of the 44\n",
      "what color 45\n",
      "what sport is 46\n",
      "what are 47\n",
      "what brand 48\n",
      "what time 49\n",
      "what are the 50\n",
      "does this 51\n",
      "is the woman 52\n",
      "are there any 53\n",
      "is that a 54\n",
      "what animal is 55\n",
      "why 56\n",
      "do you 57\n",
      "what is the woman 58\n",
      "is this person 59\n",
      "can you 60\n",
      "is he 61\n",
      "who is 62\n",
      "what room is 63\n",
      "what number is 64\n"
     ]
    }
   ],
   "source": [
    "#list to check if images already exist\n",
    "existing_images_files = [f for f in os.listdir(f'./images/{dataset_name}') if not f.startswith('.')]\n",
    "\n",
    "#script to download according to questions\n",
    "question_file = open('annotations/v2_OpenEnded_mscoco_train2014_questions.json')\n",
    "questions_all = json.load(question_file) \n",
    "questions_all = questions_all['questions']\n",
    "ann_file = open('annotations/v2_mscoco_train2014_annotations.json')\n",
    "ann_all = json.load(ann_file) \n",
    "ann_all = ann_all['annotations']\n",
    "\n",
    "df = pd.DataFrame(ann_all)\n",
    "question_types = df.question_type.unique()\n",
    "\n",
    "print(f'There are {len(question_types)} question types')\n",
    "for q_type in question_types:\n",
    "    print(q_type, count)\n",
    "    df_by_type = df[df['question_type'] == q_type]\n",
    "    id_list = set(df_by_type[:200]['image_id'])\n",
    "    \n",
    "    for _id in id_list:\n",
    "        img = coco.loadImgs(_id)\n",
    "        path = img[0]['coco_url']\n",
    "        file_name =  f'{_id}.jpg'\n",
    "        if file_name not in existing_images_files:\n",
    "            print(\"saving\", file_name)\n",
    "            img = Image.open(urlopen(path))\n",
    "            img.save(f'./images/{dataset_name}/{file_name}')\n",
    "        #else:\n",
    "            #print(\"already saved\", file_name)\n",
    "    \n"
   ]
  },
  {
   "cell_type": "markdown",
   "id": "2ed95027-6fc0-440b-8692-43b9d4668740",
   "metadata": {},
   "source": [
    "## RANDOM"
   ]
  },
  {
   "cell_type": "code",
   "execution_count": 3,
   "id": "04e09e7c-e88a-4ede-9364-14e9872f505e",
   "metadata": {},
   "outputs": [],
   "source": [
    "question_file = open('annotations/v2_OpenEnded_mscoco_train2014_questions.json')\n",
    "questions_all = json.load(question_file) \n",
    "questions_all = questions_all['questions']\n",
    "ann_file = open('annotations/v2_mscoco_train2014_annotations.json')\n",
    "ann_all = json.load(ann_file) \n",
    "ann_all = ann_all['annotations']"
   ]
  },
  {
   "cell_type": "code",
   "execution_count": 4,
   "id": "feaf7d01-d216-41f6-9509-5e7acd5337f5",
   "metadata": {},
   "outputs": [],
   "source": [
    "#Get available ids\n",
    "df = pd.DataFrame(ann_all)\n",
    "id_list = np.sort(df['image_id'].unique())"
   ]
  },
  {
   "cell_type": "code",
   "execution_count": 5,
   "id": "84bb085c-21de-4d51-ad9d-bf4f929273d9",
   "metadata": {},
   "outputs": [],
   "source": [
    "#specify dataset to download images\n",
    "dataset_name = 'dataset_2'"
   ]
  },
  {
   "cell_type": "code",
   "execution_count": 6,
   "id": "afaada87-e0ea-4d4b-b2aa-cf73c85f52c6",
   "metadata": {},
   "outputs": [
    {
     "data": {
      "text/plain": [
       "29586"
      ]
     },
     "execution_count": 6,
     "metadata": {},
     "output_type": "execute_result"
    }
   ],
   "source": [
    "def generate_unique_random_integers(n, random_state=None):\n",
    "    if random_state is not None:\n",
    "        random.seed(random_state)\n",
    "    unique_integers = list(range(len(id_list)))\n",
    "    random.shuffle(unique_integers) \n",
    "    return unique_integers[:n]  \n",
    "\n",
    "unique_random_idxs = generate_unique_random_integers(5000, random_state=42)\n",
    "id_list[unique_random_idxs[0]]"
   ]
  },
  {
   "cell_type": "code",
   "execution_count": 12,
   "id": "9eb51862-fc39-4494-a15a-392c47c0f1e0",
   "metadata": {
    "scrolled": true,
    "tags": []
   },
   "outputs": [
    {
     "name": "stdout",
     "output_type": "stream",
     "text": [
      "5000\n"
     ]
    }
   ],
   "source": [
    "#list to check if images already exist\n",
    "existing_images_files = [f for f in os.listdir(f'./images/{dataset_name}') if not f.startswith('.')]\n",
    "print(len(existing_images_files))\n",
    "for idx in unique_random_idxs:\n",
    "    img = coco.loadImgs(int(id_list[idx]))\n",
    "    path = img[0]['coco_url']\n",
    "    file_name =  f'{id_list[idx]}.jpg'\n",
    "    if file_name not in existing_images_files:\n",
    "        print(\"saving\", file_name)\n",
    "        img = Image.open(urlopen(path))\n",
    "        img.save(f'./images/{dataset_name}/{file_name}')\n",
    "    else:\n",
    "        #print(\"already saved\", file_name)\n",
    "        a = 0"
   ]
  },
  {
   "cell_type": "code",
   "execution_count": null,
   "id": "4c541a56-c519-4931-8ed4-b8ce667267f7",
   "metadata": {},
   "outputs": [],
   "source": []
  }
 ],
 "metadata": {
  "kernelspec": {
   "display_name": "Python 3 (ipykernel)",
   "language": "python",
   "name": "python3"
  },
  "language_info": {
   "codemirror_mode": {
    "name": "ipython",
    "version": 3
   },
   "file_extension": ".py",
   "mimetype": "text/x-python",
   "name": "python",
   "nbconvert_exporter": "python",
   "pygments_lexer": "ipython3",
   "version": "3.9.18"
  }
 },
 "nbformat": 4,
 "nbformat_minor": 5
}
